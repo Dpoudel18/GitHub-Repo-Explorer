{
 "cells": [
  {
   "cell_type": "code",
   "execution_count": 204,
   "metadata": {},
   "outputs": [],
   "source": [
    "from bs4 import BeautifulSoup\n",
    "import requests\n",
    "import matplotlib.pyplot as plt\n",
    "import re\n",
    "import plotly.express as px\n",
    "import pandas as pd\n",
    "import jinja2"
   ]
  },
  {
   "cell_type": "markdown",
   "metadata": {},
   "source": [
    "### Exploring Pandas Repository"
   ]
  },
  {
   "cell_type": "code",
   "execution_count": 100,
   "metadata": {},
   "outputs": [],
   "source": [
    "username = \"pandas-dev\"\n",
    "repo_name = \"pandas\""
   ]
  },
  {
   "cell_type": "markdown",
   "metadata": {},
   "source": [
    "### Top 10 contributors (based on contributions)"
   ]
  },
  {
   "cell_type": "code",
   "execution_count": 99,
   "metadata": {},
   "outputs": [
    {
     "data": {
      "text/html": [
       "<style type=\"text/css\">\n",
       "</style>\n",
       "<table id=\"T_99d4c_\">\n",
       "  <thead>\n",
       "    <tr>\n",
       "      <th class=\"col_heading level0 col0\" >login</th>\n",
       "      <th class=\"col_heading level0 col1\" >contributions</th>\n",
       "    </tr>\n",
       "  </thead>\n",
       "  <tbody>\n",
       "    <tr>\n",
       "      <td id=\"T_99d4c_row0_col0\" class=\"data row0 col0\" >jreback</td>\n",
       "      <td id=\"T_99d4c_row0_col1\" class=\"data row0 col1\" >4731</td>\n",
       "    </tr>\n",
       "    <tr>\n",
       "      <td id=\"T_99d4c_row1_col0\" class=\"data row1 col0\" >jbrockmendel</td>\n",
       "      <td id=\"T_99d4c_row1_col1\" class=\"data row1 col1\" >3789</td>\n",
       "    </tr>\n",
       "    <tr>\n",
       "      <td id=\"T_99d4c_row2_col0\" class=\"data row2 col0\" >wesm</td>\n",
       "      <td id=\"T_99d4c_row2_col1\" class=\"data row2 col1\" >3127</td>\n",
       "    </tr>\n",
       "    <tr>\n",
       "      <td id=\"T_99d4c_row3_col0\" class=\"data row3 col0\" >jorisvandenbossche</td>\n",
       "      <td id=\"T_99d4c_row3_col1\" class=\"data row3 col1\" >1230</td>\n",
       "    </tr>\n",
       "    <tr>\n",
       "      <td id=\"T_99d4c_row4_col0\" class=\"data row4 col0\" >TomAugspurger</td>\n",
       "      <td id=\"T_99d4c_row4_col1\" class=\"data row4 col1\" >652</td>\n",
       "    </tr>\n",
       "    <tr>\n",
       "      <td id=\"T_99d4c_row5_col0\" class=\"data row5 col0\" >cpcloud</td>\n",
       "      <td id=\"T_99d4c_row5_col1\" class=\"data row5 col1\" >607</td>\n",
       "    </tr>\n",
       "    <tr>\n",
       "      <td id=\"T_99d4c_row6_col0\" class=\"data row6 col0\" >simonjayhawkins</td>\n",
       "      <td id=\"T_99d4c_row6_col1\" class=\"data row6 col1\" >594</td>\n",
       "    </tr>\n",
       "    <tr>\n",
       "      <td id=\"T_99d4c_row7_col0\" class=\"data row7 col0\" >mroeschke</td>\n",
       "      <td id=\"T_99d4c_row7_col1\" class=\"data row7 col1\" >547</td>\n",
       "    </tr>\n",
       "    <tr>\n",
       "      <td id=\"T_99d4c_row8_col0\" class=\"data row8 col0\" >gfyoung</td>\n",
       "      <td id=\"T_99d4c_row8_col1\" class=\"data row8 col1\" >460</td>\n",
       "    </tr>\n",
       "    <tr>\n",
       "      <td id=\"T_99d4c_row9_col0\" class=\"data row9 col0\" >sinhrks</td>\n",
       "      <td id=\"T_99d4c_row9_col1\" class=\"data row9 col1\" >409</td>\n",
       "    </tr>\n",
       "  </tbody>\n",
       "</table>\n"
      ],
      "text/plain": [
       "<pandas.io.formats.style.Styler at 0x1135e0f10>"
      ]
     },
     "execution_count": 99,
     "metadata": {},
     "output_type": "execute_result"
    }
   ],
   "source": [
    "df_contributors = pd.read_csv(\"../csv_files/contributors.csv\")\n",
    "top_10_contributors = df_contributors[['login', 'contributions']][:10]\n",
    "top_10_contributors.style.hide_index()\n"
   ]
  },
  {
   "cell_type": "markdown",
   "metadata": {},
   "source": [
    "### Number of commits per year"
   ]
  },
  {
   "cell_type": "code",
   "execution_count": 136,
   "metadata": {},
   "outputs": [
    {
     "data": {
      "text/html": [
       "<style type=\"text/css\">\n",
       "</style>\n",
       "<table id=\"T_22248_\">\n",
       "  <thead>\n",
       "    <tr>\n",
       "      <th class=\"col_heading level0 col0\" >year</th>\n",
       "      <th class=\"col_heading level0 col1\" >commit_count</th>\n",
       "    </tr>\n",
       "  </thead>\n",
       "  <tbody>\n",
       "    <tr>\n",
       "      <td id=\"T_22248_row0_col0\" class=\"data row0 col0\" >2009</td>\n",
       "      <td id=\"T_22248_row0_col1\" class=\"data row0 col1\" >100</td>\n",
       "    </tr>\n",
       "    <tr>\n",
       "      <td id=\"T_22248_row1_col0\" class=\"data row1 col0\" >2010</td>\n",
       "      <td id=\"T_22248_row1_col1\" class=\"data row1 col1\" >147</td>\n",
       "    </tr>\n",
       "    <tr>\n",
       "      <td id=\"T_22248_row2_col0\" class=\"data row2 col0\" >2011</td>\n",
       "      <td id=\"T_22248_row2_col1\" class=\"data row2 col1\" >1321</td>\n",
       "    </tr>\n",
       "    <tr>\n",
       "      <td id=\"T_22248_row3_col0\" class=\"data row3 col0\" >2012</td>\n",
       "      <td id=\"T_22248_row3_col1\" class=\"data row3 col1\" >3238</td>\n",
       "    </tr>\n",
       "    <tr>\n",
       "      <td id=\"T_22248_row4_col0\" class=\"data row4 col0\" >2013</td>\n",
       "      <td id=\"T_22248_row4_col1\" class=\"data row4 col1\" >3239</td>\n",
       "    </tr>\n",
       "    <tr>\n",
       "      <td id=\"T_22248_row5_col0\" class=\"data row5 col0\" >2014</td>\n",
       "      <td id=\"T_22248_row5_col1\" class=\"data row5 col1\" >3080</td>\n",
       "    </tr>\n",
       "    <tr>\n",
       "      <td id=\"T_22248_row6_col0\" class=\"data row6 col0\" >2015</td>\n",
       "      <td id=\"T_22248_row6_col1\" class=\"data row6 col1\" >2067</td>\n",
       "    </tr>\n",
       "    <tr>\n",
       "      <td id=\"T_22248_row7_col0\" class=\"data row7 col0\" >2016</td>\n",
       "      <td id=\"T_22248_row7_col1\" class=\"data row7 col1\" >1311</td>\n",
       "    </tr>\n",
       "    <tr>\n",
       "      <td id=\"T_22248_row8_col0\" class=\"data row8 col0\" >2017</td>\n",
       "      <td id=\"T_22248_row8_col1\" class=\"data row8 col1\" >1776</td>\n",
       "    </tr>\n",
       "    <tr>\n",
       "      <td id=\"T_22248_row9_col0\" class=\"data row9 col0\" >2018</td>\n",
       "      <td id=\"T_22248_row9_col1\" class=\"data row9 col1\" >2302</td>\n",
       "    </tr>\n",
       "    <tr>\n",
       "      <td id=\"T_22248_row10_col0\" class=\"data row10 col0\" >2019</td>\n",
       "      <td id=\"T_22248_row10_col1\" class=\"data row10 col1\" >2716</td>\n",
       "    </tr>\n",
       "    <tr>\n",
       "      <td id=\"T_22248_row11_col0\" class=\"data row11 col0\" >2020</td>\n",
       "      <td id=\"T_22248_row11_col1\" class=\"data row11 col1\" >4151</td>\n",
       "    </tr>\n",
       "    <tr>\n",
       "      <td id=\"T_22248_row12_col0\" class=\"data row12 col0\" >2021</td>\n",
       "      <td id=\"T_22248_row12_col1\" class=\"data row12 col1\" >3157</td>\n",
       "    </tr>\n",
       "    <tr>\n",
       "      <td id=\"T_22248_row13_col0\" class=\"data row13 col0\" >2022</td>\n",
       "      <td id=\"T_22248_row13_col1\" class=\"data row13 col1\" >222</td>\n",
       "    </tr>\n",
       "  </tbody>\n",
       "</table>\n"
      ],
      "text/plain": [
       "<pandas.io.formats.style.Styler at 0x11644f700>"
      ]
     },
     "execution_count": 136,
     "metadata": {},
     "output_type": "execute_result"
    }
   ],
   "source": [
    "df_commits = pd.read_csv(\"../csv_files/commits.csv\")\n",
    "df_commits_by_year = pd.to_datetime(df_commits['commit_date']).dt.year.value_counts()\n",
    "df_commits_by_year = pd.DataFrame(df_commits_by_year)\n",
    "df_commits_by_year = df_commits_by_year.rename(columns={'commit_date': 'commit_count'}) # rename column \n",
    "df_commits_by_year = df_commits_by_year.rename_axis('year').reset_index()\n",
    "df_commits_by_year = df_commits_by_year.sort_index(axis = 0)\n",
    "df_commits_by_year = df_commits_by_year.sort_values(by=['year'])\n",
    "df_commits_by_year.style.hide_index()"
   ]
  },
  {
   "cell_type": "code",
   "execution_count": 150,
   "metadata": {},
   "outputs": [
    {
     "data": {
      "image/png": "[encoded data removed]",
      "text/plain": [
       "<Figure size 648x288 with 1 Axes>"
      ]
     },
     "metadata": {
      "needs_background": "light"
     },
     "output_type": "display_data"
    }
   ],
   "source": [
    "plt.bar(df_commits_by_year['year'], df_commits_by_year['commit_count'])\n",
    "plt.rcParams[\"figure.figsize\"] = [12,7]\n",
    "plt.rcParams[\"font.family\"] = \"Comic Sans MS\"\n",
    "plt.xlabel(\"year\", fontsize=15)\n",
    "plt.ylabel(\"Number of commits\", fontsize=20)\n",
    "plt.title(\"Number of commits per year\", fontsize=20)\n",
    "plt.show()"
   ]
  },
  {
   "cell_type": "markdown",
   "metadata": {},
   "source": [
    "### Milestones with the most open issues"
   ]
  },
  {
   "cell_type": "code",
   "execution_count": 173,
   "metadata": {},
   "outputs": [
    {
     "data": {
      "text/html": [
       "<style type=\"text/css\">\n",
       "</style>\n",
       "<table id=\"T_0f95d_\">\n",
       "  <thead>\n",
       "    <tr>\n",
       "      <th class=\"col_heading level0 col0\" >milestone_number</th>\n",
       "      <th class=\"col_heading level0 col1\" >title</th>\n",
       "      <th class=\"col_heading level0 col2\" >open_issues</th>\n",
       "    </tr>\n",
       "  </thead>\n",
       "  <tbody>\n",
       "    <tr>\n",
       "      <td id=\"T_0f95d_row0_col0\" class=\"data row0 col0\" >32</td>\n",
       "      <td id=\"T_0f95d_row0_col1\" class=\"data row0 col1\" >Contributions Welcome</td>\n",
       "      <td id=\"T_0f95d_row0_col2\" class=\"data row0 col2\" >1004</td>\n",
       "    </tr>\n",
       "    <tr>\n",
       "      <td id=\"T_0f95d_row1_col0\" class=\"data row1 col0\" >20</td>\n",
       "      <td id=\"T_0f95d_row1_col1\" class=\"data row1 col1\" >Someday</td>\n",
       "      <td id=\"T_0f95d_row1_col2\" class=\"data row1 col2\" >107</td>\n",
       "    </tr>\n",
       "    <tr>\n",
       "      <td id=\"T_0f95d_row2_col0\" class=\"data row2 col0\" >92</td>\n",
       "      <td id=\"T_0f95d_row2_col1\" class=\"data row2 col1\" >1.5</td>\n",
       "      <td id=\"T_0f95d_row2_col2\" class=\"data row2 col2\" >35</td>\n",
       "    </tr>\n",
       "    <tr>\n",
       "      <td id=\"T_0f95d_row3_col0\" class=\"data row3 col0\" >42</td>\n",
       "      <td id=\"T_0f95d_row3_col1\" class=\"data row3 col1\" >2.0</td>\n",
       "      <td id=\"T_0f95d_row3_col2\" class=\"data row3 col2\" >18</td>\n",
       "    </tr>\n",
       "    <tr>\n",
       "      <td id=\"T_0f95d_row4_col0\" class=\"data row4 col0\" >33</td>\n",
       "      <td id=\"T_0f95d_row4_col1\" class=\"data row4 col1\" >No action</td>\n",
       "      <td id=\"T_0f95d_row4_col2\" class=\"data row4 col2\" >11</td>\n",
       "    </tr>\n",
       "    <tr>\n",
       "      <td id=\"T_0f95d_row5_col0\" class=\"data row5 col0\" >93</td>\n",
       "      <td id=\"T_0f95d_row5_col1\" class=\"data row5 col1\" >1.4.1</td>\n",
       "      <td id=\"T_0f95d_row5_col2\" class=\"data row5 col2\" >10</td>\n",
       "    </tr>\n",
       "  </tbody>\n",
       "</table>\n"
      ],
      "text/plain": [
       "<pandas.io.formats.style.Styler at 0x1162be6b0>"
      ]
     },
     "execution_count": 173,
     "metadata": {},
     "output_type": "execute_result"
    }
   ],
   "source": [
    "df_milestones = pd.read_csv(\"../csv_files/milestones.csv\")\n",
    "df_milestones = df_milestones[['number', 'title', 'open_issues']]\n",
    "df_milestones = df_milestones.sort_values(by=['open_issues'], ascending=False)\n",
    "df_milestones = df_milestones.rename(columns={'number': 'milestone_number'})\n",
    "df_milestones.style.hide_index()"
   ]
  },
  {
   "cell_type": "markdown",
   "metadata": {},
   "source": [
    "### Top 10 labels in issues and pull requests"
   ]
  },
  {
   "cell_type": "code",
   "execution_count": 98,
   "metadata": {},
   "outputs": [
    {
     "data": {
      "text/html": [
       "<style type=\"text/css\">\n",
       "</style>\n",
       "<table id=\"T_1c75f_\">\n",
       "  <thead>\n",
       "    <tr>\n",
       "      <th class=\"col_heading level0 col0\" >Symbol</th>\n",
       "      <th class=\"col_heading level0 col1\" >Total Count</th>\n",
       "    </tr>\n",
       "  </thead>\n",
       "  <tbody>\n",
       "    <tr>\n",
       "      <td id=\"T_1c75f_row0_col0\" class=\"data row0 col0\" >Bug</td>\n",
       "      <td id=\"T_1c75f_row0_col1\" class=\"data row0 col1\" >1442</td>\n",
       "    </tr>\n",
       "    <tr>\n",
       "      <td id=\"T_1c75f_row1_col0\" class=\"data row1 col0\" >Enhancement</td>\n",
       "      <td id=\"T_1c75f_row1_col1\" class=\"data row1 col1\" >971</td>\n",
       "    </tr>\n",
       "    <tr>\n",
       "      <td id=\"T_1c75f_row2_col0\" class=\"data row2 col0\" >Needs Discussion</td>\n",
       "      <td id=\"T_1c75f_row2_col1\" class=\"data row2 col1\" >338</td>\n",
       "    </tr>\n",
       "    <tr>\n",
       "      <td id=\"T_1c75f_row3_col0\" class=\"data row3 col0\" >Docs</td>\n",
       "      <td id=\"T_1c75f_row3_col1\" class=\"data row3 col1\" >338</td>\n",
       "    </tr>\n",
       "    <tr>\n",
       "      <td id=\"T_1c75f_row4_col0\" class=\"data row4 col0\" >Groupby</td>\n",
       "      <td id=\"T_1c75f_row4_col1\" class=\"data row4 col1\" >278</td>\n",
       "    </tr>\n",
       "    <tr>\n",
       "      <td id=\"T_1c75f_row5_col0\" class=\"data row5 col0\" >Indexing</td>\n",
       "      <td id=\"T_1c75f_row5_col1\" class=\"data row5 col1\" >239</td>\n",
       "    </tr>\n",
       "    <tr>\n",
       "      <td id=\"T_1c75f_row6_col0\" class=\"data row6 col0\" >Missing-data</td>\n",
       "      <td id=\"T_1c75f_row6_col1\" class=\"data row6 col1\" >217</td>\n",
       "    </tr>\n",
       "    <tr>\n",
       "      <td id=\"T_1c75f_row7_col0\" class=\"data row7 col0\" >Dtype Conversions</td>\n",
       "      <td id=\"T_1c75f_row7_col1\" class=\"data row7 col1\" >213</td>\n",
       "    </tr>\n",
       "    <tr>\n",
       "      <td id=\"T_1c75f_row8_col0\" class=\"data row8 col0\" >Reshaping</td>\n",
       "      <td id=\"T_1c75f_row8_col1\" class=\"data row8 col1\" >212</td>\n",
       "    </tr>\n",
       "    <tr>\n",
       "      <td id=\"T_1c75f_row9_col0\" class=\"data row9 col0\" >MultiIndex</td>\n",
       "      <td id=\"T_1c75f_row9_col1\" class=\"data row9 col1\" >211</td>\n",
       "    </tr>\n",
       "  </tbody>\n",
       "</table>\n"
      ],
      "text/plain": [
       "<pandas.io.formats.style.Styler at 0x115594670>"
      ]
     },
     "execution_count": 98,
     "metadata": {},
     "output_type": "execute_result"
    }
   ],
   "source": [
    "# fetch top 10 labels from the pandas repo\n",
    "url = f\"https://github.com/{username}/{repo_name}/labels?sort=count-desc\"\n",
    "html_response = requests.get(url).content\n",
    "soup = BeautifulSoup(html_response, 'html.parser')\n",
    "label_soup = soup.find_all(class_=\"IssueLabel hx_IssueLabel IssueLabel--big lh-condensed js-label-link d-inline-block v-align-top\")\n",
    "issues_and_pr_count_soup = soup.find_all(class_=\"Link--muted\")\n",
    "\n",
    "label_arr = [] # store top 10 labels\n",
    "count = 0 \n",
    "\n",
    "for label in label_soup:\n",
    "    label_arr.append(label.text.strip())\n",
    "    count += 1\n",
    "    if count == 10: # break the loop after the count is 10.\n",
    "        break\n",
    "\n",
    "issues_and_pr_count_arr = [] # store top issues and pull requests count\n",
    "count = 0\n",
    "for soup in issues_and_pr_count_soup:\n",
    "    issues_count_str = soup.text.strip()\n",
    "    issues_count = int(re.sub('[^0-9]','', issues_count_str))\n",
    "    issues_and_pr_count_arr.append(issues_count)\n",
    "    count += 1\n",
    "    if count == 10: # break the loop after the count is 10.\n",
    "        break\n",
    "\n",
    "zipped_label_arr = zip(label_arr, issues_and_pr_count_arr)\n",
    "\n",
    "df_labels = pd.DataFrame(zipped_label_arr, columns=['Symbol', 'Total Count'])\n",
    "df_labels.style.hide_index()\n"
   ]
  },
  {
   "cell_type": "code",
   "execution_count": 86,
   "metadata": {},
   "outputs": [
    {
     "data": {
      "image/png": "[encoded data removed]",
      "text/plain": [
       "<Figure size 1296x504 with 1 Axes>"
      ]
     },
     "metadata": {
      "needs_background": "light"
     },
     "output_type": "display_data"
    }
   ],
   "source": [
    "plt.bar(label_arr, issues_and_pr_count_arr)\n",
    "plt.rcParams[\"figure.figsize\"] = [18,7]\n",
    "plt.rcParams[\"font.family\"] = \"Comic Sans MS\"\n",
    "plt.xlabel(\"Label\", fontsize=15)\n",
    "plt.ylabel(\"Issues and pull requests count\", fontsize=20)\n",
    "plt.title(\"Top 10 labels on issues and pull requests\", fontsize=20)\n",
    "plt.show()"
   ]
  },
  {
   "cell_type": "markdown",
   "metadata": {},
   "source": [
    "### User with the most pull requests"
   ]
  },
  {
   "cell_type": "code",
   "execution_count": 199,
   "metadata": {},
   "outputs": [
    {
     "data": {
      "text/html": [
       "<style type=\"text/css\">\n",
       "</style>\n",
       "<table id=\"T_a54dc_\">\n",
       "  <thead>\n",
       "    <tr>\n",
       "      <th class=\"col_heading level0 col0\" >login</th>\n",
       "      <th class=\"col_heading level0 col1\" >number_of_pull_requests</th>\n",
       "    </tr>\n",
       "  </thead>\n",
       "  <tbody>\n",
       "    <tr>\n",
       "      <td id=\"T_a54dc_row0_col0\" class=\"data row0 col0\" >jbrockmendel</td>\n",
       "      <td id=\"T_a54dc_row0_col1\" class=\"data row0 col1\" >4153</td>\n",
       "    </tr>\n",
       "    <tr>\n",
       "      <td id=\"T_a54dc_row1_col0\" class=\"data row1 col0\" >jreback</td>\n",
       "      <td id=\"T_a54dc_row1_col1\" class=\"data row1 col1\" >1492</td>\n",
       "    </tr>\n",
       "    <tr>\n",
       "      <td id=\"T_a54dc_row2_col0\" class=\"data row2 col0\" >jorisvandenbossche</td>\n",
       "      <td id=\"T_a54dc_row2_col1\" class=\"data row2 col1\" >902</td>\n",
       "    </tr>\n",
       "    <tr>\n",
       "      <td id=\"T_a54dc_row3_col0\" class=\"data row3 col0\" >simonjayhawkins</td>\n",
       "      <td id=\"T_a54dc_row3_col1\" class=\"data row3 col1\" >820</td>\n",
       "    </tr>\n",
       "    <tr>\n",
       "      <td id=\"T_a54dc_row4_col0\" class=\"data row4 col0\" >TomAugspurger</td>\n",
       "      <td id=\"T_a54dc_row4_col1\" class=\"data row4 col1\" >800</td>\n",
       "    </tr>\n",
       "    <tr>\n",
       "      <td id=\"T_a54dc_row5_col0\" class=\"data row5 col0\" >mroeschke</td>\n",
       "      <td id=\"T_a54dc_row5_col1\" class=\"data row5 col1\" >582</td>\n",
       "    </tr>\n",
       "    <tr>\n",
       "      <td id=\"T_a54dc_row6_col0\" class=\"data row6 col0\" >gfyoung</td>\n",
       "      <td id=\"T_a54dc_row6_col1\" class=\"data row6 col1\" >445</td>\n",
       "    </tr>\n",
       "    <tr>\n",
       "      <td id=\"T_a54dc_row7_col0\" class=\"data row7 col0\" >sinhrks</td>\n",
       "      <td id=\"T_a54dc_row7_col1\" class=\"data row7 col1\" >400</td>\n",
       "    </tr>\n",
       "    <tr>\n",
       "      <td id=\"T_a54dc_row8_col0\" class=\"data row8 col0\" >phofl</td>\n",
       "      <td id=\"T_a54dc_row8_col1\" class=\"data row8 col1\" >362</td>\n",
       "    </tr>\n",
       "  </tbody>\n",
       "</table>\n"
      ],
      "text/plain": [
       "<pandas.io.formats.style.Styler at 0x11550cc40>"
      ]
     },
     "execution_count": 199,
     "metadata": {},
     "output_type": "execute_result"
    }
   ],
   "source": [
    "# User with the most pull requests\n",
    "df_pulls = pd.read_csv(\"../csv_files/pulls.csv\")\n",
    "df_pulls = pd.DataFrame(df_pulls)\n",
    "df_pulls = df_pulls[['number','user_id']].groupby(by=[\"user_id\"]).count()\n",
    "df_pulls = df_pulls.sort_values(by=['number'], ascending = False)[:10]\n",
    "top_10_pr_contributors = pd.merge(df_contributors[['id','login']], df_pulls, how='inner', left_on = 'id', right_on = 'user_id')\n",
    "top_10_pr_contributors = top_10_pr_contributors.rename(columns={'number': 'number_of_pull_requests'})\n",
    "top_10_pr_contributors = top_10_pr_contributors.sort_values(by=['number_of_pull_requests'], ascending=False)\n",
    "top_10_pr_contributors[['login','number_of_pull_requests']].style.hide_index()"
   ]
  },
  {
   "cell_type": "markdown",
   "metadata": {},
   "source": [
    "### Time taken for issues to be closed (in days)"
   ]
  },
  {
   "cell_type": "code",
   "execution_count": 268,
   "metadata": {},
   "outputs": [
    {
     "data": {
      "text/html": [
       "<div>\n",
       "<style scoped>\n",
       "    .dataframe tbody tr th:only-of-type {\n",
       "        vertical-align: middle;\n",
       "    }\n",
       "\n",
       "    .dataframe tbody tr th {\n",
       "        vertical-align: top;\n",
       "    }\n",
       "\n",
       "    .dataframe thead th {\n",
       "        text-align: right;\n",
       "    }\n",
       "</style>\n",
       "<table border=\"1\" class=\"dataframe\">\n",
       "  <thead>\n",
       "    <tr style=\"text-align: right;\">\n",
       "      <th></th>\n",
       "      <th>percent</th>\n",
       "    </tr>\n",
       "    <tr>\n",
       "      <th>issued_opened_days</th>\n",
       "      <th></th>\n",
       "    </tr>\n",
       "  </thead>\n",
       "  <tbody>\n",
       "    <tr>\n",
       "      <th>0</th>\n",
       "      <td>20.56%</td>\n",
       "    </tr>\n",
       "    <tr>\n",
       "      <th>1</th>\n",
       "      <td>8.86%</td>\n",
       "    </tr>\n",
       "    <tr>\n",
       "      <th>2</th>\n",
       "      <td>3.66%</td>\n",
       "    </tr>\n",
       "    <tr>\n",
       "      <th>3</th>\n",
       "      <td>2.75%</td>\n",
       "    </tr>\n",
       "    <tr>\n",
       "      <th>4</th>\n",
       "      <td>2.0%</td>\n",
       "    </tr>\n",
       "  </tbody>\n",
       "</table>\n",
       "</div>"
      ],
      "text/plain": [
       "                   percent\n",
       "issued_opened_days        \n",
       "0                   20.56%\n",
       "1                    8.86%\n",
       "2                    3.66%\n",
       "3                    2.75%\n",
       "4                     2.0%"
      ]
     },
     "execution_count": 268,
     "metadata": {},
     "output_type": "execute_result"
    }
   ],
   "source": [
    "df_issues_year = pd.read_csv(\"../csv_files/issues.csv\")\n",
    "issues_length = len(df_issues_year)\n",
    "\n",
    "def get_percent(val):\n",
    "    return str(round(val / issues_length * 100,2))+'%'\n",
    "\n",
    "df_issues_year['issued_opened_days'] = (pd.to_datetime(df_issues_year['closed_at']) - pd.to_datetime(df_issues_year['created_at'])).dt.days\n",
    "df_issues_year['issued_opened_days'] = df_issues_year['issued_opened_days'].astype('Int64')\n",
    "df_issues_year = df_issues_year[['issued_opened_days', 'number']].groupby(by=[\"issued_opened_days\"]).count()\n",
    "df_issues_year['number'] = df_issues_year['number'].apply(get_percent)\n",
    "df_issues_year = df_issues_year.rename(columns={'number': 'percent'})\n",
    "\n",
    "df_issues_year[:5]"
   ]
  },
  {
   "cell_type": "markdown",
   "metadata": {},
   "source": [
    "### Languages used in Pandas Repository\n"
   ]
  },
  {
   "cell_type": "code",
   "execution_count": 235,
   "metadata": {},
   "outputs": [
    {
     "data": {
      "text/html": [
       "<style type=\"text/css\">\n",
       "</style>\n",
       "<table id=\"T_4d2e7_\">\n",
       "  <thead>\n",
       "    <tr>\n",
       "      <th class=\"col_heading level0 col0\" >Language</th>\n",
       "      <th class=\"col_heading level0 col1\" >Percentage</th>\n",
       "    </tr>\n",
       "  </thead>\n",
       "  <tbody>\n",
       "    <tr>\n",
       "      <td id=\"T_4d2e7_row0_col0\" class=\"data row0 col0\" >Python</td>\n",
       "      <td id=\"T_4d2e7_row0_col1\" class=\"data row0 col1\" >90.2%</td>\n",
       "    </tr>\n",
       "    <tr>\n",
       "      <td id=\"T_4d2e7_row1_col0\" class=\"data row1 col0\" >Cython</td>\n",
       "      <td id=\"T_4d2e7_row1_col1\" class=\"data row1 col1\" >5.6%</td>\n",
       "    </tr>\n",
       "    <tr>\n",
       "      <td id=\"T_4d2e7_row2_col0\" class=\"data row2 col0\" >HTML</td>\n",
       "      <td id=\"T_4d2e7_row2_col1\" class=\"data row2 col1\" >2.3%</td>\n",
       "    </tr>\n",
       "    <tr>\n",
       "      <td id=\"T_4d2e7_row3_col0\" class=\"data row3 col0\" >C</td>\n",
       "      <td id=\"T_4d2e7_row3_col1\" class=\"data row3 col1\" >1.8%</td>\n",
       "    </tr>\n",
       "    <tr>\n",
       "      <td id=\"T_4d2e7_row4_col0\" class=\"data row4 col0\" >Shell</td>\n",
       "      <td id=\"T_4d2e7_row4_col1\" class=\"data row4 col1\" >0.1%</td>\n",
       "    </tr>\n",
       "    <tr>\n",
       "      <td id=\"T_4d2e7_row5_col0\" class=\"data row5 col0\" >Smarty</td>\n",
       "      <td id=\"T_4d2e7_row5_col1\" class=\"data row5 col1\" >0.0%</td>\n",
       "    </tr>\n",
       "  </tbody>\n",
       "</table>\n"
      ],
      "text/plain": [
       "<pandas.io.formats.style.Styler at 0x117acdcc0>"
      ]
     },
     "execution_count": 235,
     "metadata": {},
     "output_type": "execute_result"
    }
   ],
   "source": [
    "url = f\"https://github.com/{username}/{repo_name}/\"\n",
    "html_response = requests.get(url).content\n",
    "soup = BeautifulSoup(html_response, 'html.parser')\n",
    "language_soup = soup.find_all(class_=\"color-fg-default text-bold mr-1\")\n",
    "percent_soup = soup.find_all(class_=\"d-inline-flex flex-items-center flex-nowrap Link--secondary no-underline text-small mr-3\")\n",
    "languages = []\n",
    "percent = []\n",
    "for i in label_soup:\n",
    "    languages.append(i.text.strip())\n",
    "for i in percent_soup:\n",
    "    percent.append(re.findall(\"\\d+\\.\\d+\",i.text)[0]+'%')\n",
    "\n",
    "zipped_label_arr = zip(languages, percent)\n",
    "\n",
    "df_labels = pd.DataFrame(zipped_label_arr, columns=['Language', 'Percentage'])\n",
    "df_labels.style.hide_index()\n"
   ]
  }
 ],
 "metadata": {
  "interpreter": {
   "hash": "aee8b7b246df8f9039afb4144a1f6fd8d2ca17a180786b69acc140d282b71a49"
  },
  "kernelspec": {
   "display_name": "Python 3.10.1 64-bit",
   "language": "python",
   "name": "python3"
  },
  "language_info": {
   "codemirror_mode": {
    "name": "ipython",
    "version": 3
   },
   "file_extension": ".py",
   "mimetype": "text/x-python",
   "name": "python",
   "nbconvert_exporter": "python",
   "pygments_lexer": "ipython3",
   "version": "3.10.1"
  },
  "orig_nbformat": 4
 },
 "nbformat": 4,
 "nbformat_minor": 2
}
