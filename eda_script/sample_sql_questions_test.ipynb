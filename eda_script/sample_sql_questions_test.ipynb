{
 "cells": [
  {
   "cell_type": "code",
   "execution_count": 21,
   "metadata": {},
   "outputs": [],
   "source": [
    "import psycopg2\n",
    "from config import *"
   ]
  },
  {
   "cell_type": "code",
   "execution_count": 22,
   "metadata": {},
   "outputs": [],
   "source": [
    "cred = params # load credentials from config file\n",
    "\n",
    "# connect to the remote postgres database server\n",
    "connection = psycopg2.connect(**cred)\n",
    "cursor = connection.cursor()"
   ]
  },
  {
   "cell_type": "markdown",
   "metadata": {},
   "source": [
    "### Average number of pull requests per contributor who did at least 1 pull request (rounded to the nearest integer)."
   ]
  },
  {
   "cell_type": "code",
   "execution_count": 23,
   "metadata": {},
   "outputs": [
    {
     "name": "stdout",
     "output_type": "stream",
     "text": [
      "In the pandas repository, an pull request contributor make 7 pull requests on average.\n"
     ]
    }
   ],
   "source": [
    "average_PR_per_active_contributor = \"\"\"SELECT ROUND(AVG(pull_request_count),0)\n",
    "                  FROM\n",
    "                  (SELECT\n",
    "                      user_id,\n",
    "                      count(*) AS pull_request_count\n",
    "                  FROM pulls\n",
    "                  GROUP BY\n",
    "                  user_id) average_PR_per_active_contributor;\n",
    "                \"\"\"\n",
    "\n",
    "cursor.execute(average_PR_per_active_contributor)\n",
    "records = cursor.fetchall()\n",
    "for record in records:\n",
    "    print(f\"In the pandas repository, an pull request contributor make {record[0]} pull requests on average.\")"
   ]
  },
  {
   "cell_type": "markdown",
   "metadata": {},
   "source": [
    "### Average number of pull requests per total active contributor (rounded to the nearest integer)"
   ]
  },
  {
   "cell_type": "code",
   "execution_count": 24,
   "metadata": {},
   "outputs": [
    {
     "name": "stdout",
     "output_type": "stream",
     "text": [
      "In the pandas repository, the average number of pull requests per total active contributor is 57.\n"
     ]
    }
   ],
   "source": [
    "average_PR_per_contributor = \"\"\"\n",
    "                SELECT ((\n",
    "                (SELECT COUNT(pulls.user_id)\n",
    "                    FROM pulls) /\n",
    "                (SELECT COUNT(contributors.id)\n",
    "                    FROM contributors) )) AS average_PR_per_contributor\n",
    "                \"\"\"\n",
    "cursor.execute(average_PR_per_contributor)\n",
    "records = cursor.fetchall()\n",
    "for record in records:\n",
    "    print(f\"In the pandas repository, the average number of pull requests per total active contributor is {record[0]}.\")"
   ]
  },
  {
   "cell_type": "markdown",
   "metadata": {},
   "source": [
    "### Maximum number of commits per week"
   ]
  },
  {
   "cell_type": "code",
   "execution_count": 25,
   "metadata": {},
   "outputs": [
    {
     "name": "stdout",
     "output_type": "stream",
     "text": [
      "For pandas repository, the maximum number of commits in a week is 168. It was in the week of 2019-12-30.\n"
     ]
    }
   ],
   "source": [
    "max_commit_per_week = \"\"\"\n",
    "                    SELECT date(date_trunc('week', commit_date)) AS weekly_commits,\n",
    "                            COUNT(*)\n",
    "                    FROM \n",
    "                        commits\n",
    "                    GROUP BY \n",
    "                        weekly_commits\n",
    "                    ORDER BY \n",
    "                        count(*) desc LIMIT 1; \n",
    "                    \"\"\"\n",
    "cursor.execute(max_commit_per_week)\n",
    "records = cursor.fetchall()\n",
    "for record in records:\n",
    "    print(f\"For pandas repository, the maximum number of commits in a week is {record[1]}. It was in the week of {record[0]}.\")"
   ]
  },
  {
   "cell_type": "markdown",
   "metadata": {},
   "source": [
    "### Minimum number of days of an issue being open"
   ]
  },
  {
   "cell_type": "code",
   "execution_count": 26,
   "metadata": {},
   "outputs": [
    {
     "name": "stdout",
     "output_type": "stream",
     "text": [
      "For pandas repository. The minimum number of days of an issue being open is 0. There are a total of 4500 issues that was closed within the same day.\n"
     ]
    }
   ],
   "source": [
    "open_issues_days = \"\"\"\n",
    "                    SELECT \n",
    "                        closed_at - created_at AS issue_open_days, \n",
    "                        count(*) \n",
    "                    FROM \n",
    "                        issues\n",
    "                    GROUP BY \n",
    "                        issue_open_days \n",
    "                    ORDER by \n",
    "                        issue_open_days LIMIT 1;\n",
    "                    \"\"\"\n",
    "cursor.execute(open_issues_days)\n",
    "records = cursor.fetchall()\n",
    "for record in records:\n",
    "    print(f\"For pandas repository. The minimum number of days of an issue being open is {record[0]}. There are a total of {record[1]} issues that was closed within the same day.\")"
   ]
  }
 ],
 "metadata": {
  "interpreter": {
   "hash": "aee8b7b246df8f9039afb4144a1f6fd8d2ca17a180786b69acc140d282b71a49"
  },
  "kernelspec": {
   "display_name": "Python 3.10.1 64-bit",
   "language": "python",
   "name": "python3"
  },
  "language_info": {
   "codemirror_mode": {
    "name": "ipython",
    "version": 3
   },
   "file_extension": ".py",
   "mimetype": "text/x-python",
   "name": "python",
   "nbconvert_exporter": "python",
   "pygments_lexer": "ipython3",
   "version": "3.10.1"
  },
  "orig_nbformat": 4
 },
 "nbformat": 4,
 "nbformat_minor": 2
}
